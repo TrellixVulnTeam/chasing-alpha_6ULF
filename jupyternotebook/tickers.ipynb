{
 "cells": [
  {
   "cell_type": "code",
   "execution_count": 2,
   "id": "42f178a7",
   "metadata": {},
   "outputs": [],
   "source": [
    "import pandas as pd\n",
    "from yahoo_fin import stock_info as si\n",
    "\n",
    "import itertools"
   ]
  },
  {
   "cell_type": "code",
   "execution_count": 3,
   "id": "e21d073d",
   "metadata": {},
   "outputs": [],
   "source": [
    "'''\n",
    "Open Jupyter Notebook to edit this file if needed, run: jupyter notebook.\n",
    "http://theautomatic.net/yahoo_fin-documentation/#tickers_sp500\n",
    "\n",
    "To manually convert ipynb to py file, run: jupyter nbconvert --to script my-notebook.ipynb\n",
    "'''\n",
    "\n",
    "def getNasdaqTickers():\n",
    "    # Approximately 5608 symbols\n",
    "    nasdaq = pd.DataFrame(si.tickers_nasdaq())\n",
    "    nasdaq_set = set(symbol for symbol in nasdaq[0].values.tolist())\n",
    "    return nasdaq_set\n",
    "\n",
    "def getOtherTickers():\n",
    "    # Approximately 6462 symbols\n",
    "    other = pd.DataFrame(si.tickers_other())\n",
    "    other_set = set(symbol for symbol in other[0].values.tolist())\n",
    "    return other_set\n",
    "\n",
    "def getSp500Tickers():\n",
    "    # Approximately 6462 symbols\n",
    "    sp500 = pd.DataFrame(si.tickers_sp500())\n",
    "    sp500_set = set(symbol for symbol in sp500[0].values.tolist())\n",
    "    return sp500_set\n",
    "\n",
    "\n",
    "def getDowTickers():\n",
    "    # Approximately 6462 symbols\n",
    "    dow = pd.DataFrame(si.tickers_dow())\n",
    "    dow_set = set(symbol for symbol in dow[0].values.tolist())\n",
    "    return dow_set\n",
    "\n",
    "# Set should eliminate duplicate, if there are any.\n",
    "def eliminateDuplicates(setOne, setTwo):\n",
    "    unionSet = set.union(setOne, setTwo)\n",
    "    return unionSet\n",
    "\n",
    "'''\n",
    "Remove certain tickers based on their 5th letter.\n",
    "@param list of 5th letters (e.g [\"W\", \"R\", \"Q\"])\n",
    "@return tuple 0: wanted tickers, 1: unwanted tickers\n",
    "'''\n",
    "def splitSetWantedAndUnwantedTickers(setToSplit, list_of_fifth_letters):\n",
    "    unwanted_tickers_set = set()\n",
    "    wanted_tickers_set = set()\n",
    "    \n",
    "    for symbol in setToSplit:\n",
    "        if(len(symbol) < 1 or (len(symbol) > 4 and symbol[-1] in list_of_fifth_letters)):\n",
    "            unwanted_tickers_set.add(symbol)\n",
    "        else:\n",
    "            wanted_tickers_set.add(symbol)\n",
    "        \n",
    "    return wanted_tickers_set, unwanted_tickers_set"
   ]
  },
  {
   "cell_type": "code",
   "execution_count": null,
   "id": "a1f42561",
   "metadata": {},
   "outputs": [],
   "source": []
  },
  {
   "cell_type": "code",
   "execution_count": null,
   "id": "b7740dcd",
   "metadata": {},
   "outputs": [],
   "source": []
  }
 ],
 "metadata": {
  "kernelspec": {
   "display_name": "Python 3 (ipykernel)",
   "language": "python",
   "name": "python3"
  },
  "language_info": {
   "codemirror_mode": {
    "name": "ipython",
    "version": 3
   },
   "file_extension": ".py",
   "mimetype": "text/x-python",
   "name": "python",
   "nbconvert_exporter": "python",
   "pygments_lexer": "ipython3",
   "version": "3.10.0"
  }
 },
 "nbformat": 4,
 "nbformat_minor": 5
}
